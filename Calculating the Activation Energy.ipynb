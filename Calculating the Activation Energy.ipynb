{
 "cells": [
  {
   "cell_type": "markdown",
   "metadata": {},
   "source": [
    "# Diffusion coefficients and the activation energy for p-cresol\n",
    "\n",
    "<p>In this notebook, I will look at obtaining diffusion coefficients for p-cresol, shown below, from mean squared displacement (MSD) data obtained at three temperatures: 300, 350  and 400 K. These data can then be used to determine the activation energy of diffusion. This method can be applied to any MSD data obtained from molecular dynamics (MD) simulations.</p> \n",
    "\n",
    "<p>p-cresol is a molecule of interest in the zeolite catalysis field as it is hoped that it will be able to provide sustainable chemicals which were previously sourced from crude oil. Calculating diffusion coefficients and the activation energy of diffusion allows the diffusion behavior to be determined and this is important in the fine-tuning of zeolite catalysts. </p>"
   ]
  },
  {
   "cell_type": "markdown",
   "metadata": {},
   "source": [
    "<img src=\"p_cresol.png\" style=\"width:55px;height:120px\"/>"
   ]
  },
  {
   "cell_type": "markdown",
   "metadata": {},
   "source": [
    "### Observing the data and determining the diffusion behaviour\n",
    "\n",
    "The data for this set of calculations was converted from an excel file containing the raw MSD data and converted so that it could be easiy loaded using ```np.loadtxt```."
   ]
  },
  {
   "cell_type": "code",
   "execution_count": 1,
   "metadata": {},
   "outputs": [],
   "source": [
    "import numpy as np"
   ]
  },
  {
   "cell_type": "code",
   "execution_count": 2,
   "metadata": {},
   "outputs": [],
   "source": [
    "MSD_data = np.loadtxt('MSD.csv', unpack = True, delimiter = ',')"
   ]
  },
  {
   "cell_type": "markdown",
   "metadata": {},
   "source": [
    "The data can now be plotted using ```matplotlib.pylot``` to see how the MSD values vary with time as the simulation progresses. The mean squared displacement is a measure of the deviation of the position of a partice with respect to the starting position over time in MD simulations. If a linear relationship is observed as seen below, then it indicates Brownian (normal) diffusion is occuring and we can carry on with calculating with the diffusion coefficients. Other modes of diffusion, subdiffusion and superdiffusion may also be observed."
   ]
  },
  {
   "cell_type": "code",
   "execution_count": 3,
   "metadata": {},
   "outputs": [],
   "source": [
    "import matplotlib.pyplot as plt"
   ]
  },
  {
   "cell_type": "code",
   "execution_count": 4,
   "metadata": {},
   "outputs": [
    {
     "data": {
      "image/png": "[encoded data removed]",
      "text/plain": [
       "<Figure size 432x288 with 1 Axes>"
      ]
     },
     "metadata": {
      "needs_background": "light"
     },
     "output_type": "display_data"
    }
   ],
   "source": [
    "x = MSD_data[0]\n",
    "\n",
    "plt.plot(x, MSD_data[1], label = '300 K', color = 'pink')\n",
    "plt.plot(x, MSD_data[2], label = '350 K', color = 'purple')\n",
    "plt.plot(x, MSD_data[3], label = '400 K', color = 'red')\n",
    "plt.xlabel('Time (ps)')\n",
    "plt.ylabel('MSD ($\\AA^2$)')\n",
    "plt.legend()\n",
    "plt.show()"
   ]
  },
  {
   "cell_type": "markdown",
   "metadata": {},
   "source": [
    "### Calucalating the diffusion coefficients\n",
    "\n",
    "The diffusion coefficients can be obtained from the Einstein relation:<br>\n",
    "\n",
    "$MSD(t) = A + 6Dt$<br>\n",
    "\n",
    "According to this relationship, a plot of MSD against time gives $6D_s$ as the gradient. Therefore, using the ```linregress``` function from ```scipy.stats```, the value of $6D_s$ can be obtained as the ```slope``` result."
   ]
  },
  {
   "cell_type": "code",
   "execution_count": 5,
   "metadata": {},
   "outputs": [],
   "source": [
    "from scipy.stats import linregress"
   ]
  },
  {
   "cell_type": "code",
   "execution_count": 6,
   "metadata": {},
   "outputs": [],
   "source": [
    "resultx = linregress(x, MSD_data[1])\n",
    "resulty = linregress(x, MSD_data[2])\n",
    "resultz = linregress(x, MSD_data[3])"
   ]
  },
  {
   "cell_type": "code",
   "execution_count": 7,
   "metadata": {},
   "outputs": [],
   "source": [
    "six_ds = np.array([resultx.slope, resulty.slope, resultz.slope])"
   ]
  },
  {
   "cell_type": "markdown",
   "metadata": {},
   "source": [
    "The $D_s$ values can then be obtained by simply dividing the ```slope``` values by 6 as below. They are then converted from the units Å$^2$/ps, into the more commonly seen units m$^2$/s by multiplying by $10^{-8}$."
   ]
  },
  {
   "cell_type": "code",
   "execution_count": 8,
   "metadata": {},
   "outputs": [],
   "source": [
    "Ds_value = six_ds / 6 * 1e-8"
   ]
  },
  {
   "cell_type": "code",
   "execution_count": 9,
   "metadata": {},
   "outputs": [
    {
     "name": "stdout",
     "output_type": "stream",
     "text": [
      "[2.09504088e-11 1.59219108e-10 4.34570902e-10] m^2/s\n"
     ]
    }
   ],
   "source": [
    "print(Ds_value, 'm^2/s')"
   ]
  },
  {
   "cell_type": "markdown",
   "metadata": {},
   "source": [
    "Now that we have values for the diffusion coefficients, we can determine errors for them. A function can be defined to shorten the process of obtaining the errors. The function is imported from the ```errors_func``` module and this function calculates the $D_s$ values for smaller samples of the data. The variance in the $D_s$ values is then obtained using ```np.var``` and taken as the error in the $D_s$ values obtained above."
   ]
  },
  {
   "cell_type": "code",
   "execution_count": 10,
   "metadata": {},
   "outputs": [],
   "source": [
    "data = [MSD_data[1], MSD_data[2], MSD_data[3]]"
   ]
  },
  {
   "cell_type": "code",
   "execution_count": 11,
   "metadata": {},
   "outputs": [],
   "source": [
    "import errors_func "
   ]
  },
  {
   "cell_type": "code",
   "execution_count": 12,
   "metadata": {},
   "outputs": [],
   "source": [
    "errors = errors_func.errors(MSD_data[0], data)"
   ]
  },
  {
   "cell_type": "code",
   "execution_count": 13,
   "metadata": {},
   "outputs": [
    {
     "name": "stdout",
     "output_type": "stream",
     "text": [
      "[2.0060989911259417e-15, 1.1385065584920327e-14, 7.977893283803225e-14] m^2/s\n"
     ]
    }
   ],
   "source": [
    "print(errors, 'm^2/s')"
   ]
  },
  {
   "cell_type": "markdown",
   "metadata": {},
   "source": [
    "We can plot the $D_s$ values against the temperature in order to visulaise the relationship between these two. A line of best fit can also be added using the ```linregress``` function. The ```best_fit``` variable contains multiple values, the ones we are interested in are the ```slope``` and ```intercept``` which can be used to construct new y values for the known x range, using the relationship:<br>\n",
    "\n",
    "$y = mx + c$<br>"
   ]
  },
  {
   "cell_type": "code",
   "execution_count": 14,
   "metadata": {},
   "outputs": [],
   "source": [
    "temp = np.linspace(300, 400, 3)"
   ]
  },
  {
   "cell_type": "code",
   "execution_count": 15,
   "metadata": {},
   "outputs": [],
   "source": [
    "best_fit = linregress(temp, Ds_value)"
   ]
  },
  {
   "cell_type": "code",
   "execution_count": 16,
   "metadata": {},
   "outputs": [
    {
     "data": {
      "text/plain": [
       "LinregressResult(slope=4.136204934328344e-12, intercept=-1.2427582541408587e-09, rvalue=0.9821810449186482, pvalue=0.12036029512177218, stderr=7.914496217038284e-13)"
      ]
     },
     "execution_count": 16,
     "metadata": {},
     "output_type": "execute_result"
    }
   ],
   "source": [
    "best_fit"
   ]
  },
  {
   "cell_type": "markdown",
   "metadata": {},
   "source": [
    "We can now plot a line of best fit onto the graph along with the $D_s$ values. It can be seen that in this case, the $D_s$ value increases as the temperature increases."
   ]
  },
  {
   "cell_type": "code",
   "execution_count": 17,
   "metadata": {},
   "outputs": [
    {
     "data": {
      "image/png": "[encoded data removed]",
      "text/plain": [
       "<Figure size 432x288 with 1 Axes>"
      ]
     },
     "metadata": {
      "needs_background": "light"
     },
     "output_type": "display_data"
    }
   ],
   "source": [
    "x_a = np.linspace(300, 400, 100)\n",
    "\n",
    "plt.plot(temp, Ds_value, 'o')\n",
    "plt.plot(x_a, best_fit.slope * x_a + best_fit.intercept)\n",
    "plt.xlabel('Temperature (K)')\n",
    "plt.ylabel('D$_s$ values (m$^2$/s) ($x 10^{-10}$))')\n",
    "plt.show()"
   ]
  },
  {
   "cell_type": "markdown",
   "metadata": {},
   "source": [
    "In this section we have found $D_s$ values for 300, 350 and 400 K respectively, to be:<br>\n",
    "\n",
    "$0.210 \\pm 2.01 \\times 10^{-5}$ m$^2$/s $(\\times 10^{-10})$<br>\n",
    "$1.59 \\pm 1.14 \\times 10^{-4}$ m$^2$/s $(\\times 10^{-10})$<br>\n",
    "$4.35 \\pm 7.98 \\times 10^{-4}$ m$^2$/s $(\\times 10^{-10})$<br>\n",
    "\n",
    "We have also observed the relationship between temperature and the diffusion coefficients."
   ]
  },
  {
   "cell_type": "markdown",
   "metadata": {},
   "source": [
    "### Calculating the activation energy of diffusion\n",
    "\n",
    "The Arrhenius relationship is employed to work out the value of the activation energy of diffusion:<br>\n",
    "\n",
    "$k = Ae^{\\frac{E_a}{RT}}$<br>\n",
    "\n",
    "As the diffusion coefficients represent the rate constant, we can simply replace k with $D_s$:<br>\n",
    "\n",
    "$D_s = Ae^{\\frac{E_a}{RT}}$<br>\n",
    "\n",
    "Rearrange to get:<br>\n",
    "\n",
    "$ln(D_s) = A - \\frac{E_a}{RT}$<br>\n",
    "\n",
    "Using this rearranged form, we can obtain a value for the activation energy of diffusion by plotting $\\frac{1}{T}$ against $ln(D_s)$."
   ]
  },
  {
   "cell_type": "code",
   "execution_count": 18,
   "metadata": {},
   "outputs": [
    {
     "data": {
      "image/png": "[encoded data removed]",
      "text/plain": [
       "<Figure size 432x288 with 1 Axes>"
      ]
     },
     "metadata": {
      "needs_background": "light"
     },
     "output_type": "display_data"
    }
   ],
   "source": [
    "plt.plot(1/temp, np.log(Ds_value), 'o')\n",
    "plt.xlabel('1/T (K$^{-1}$)')\n",
    "plt.ylabel('ln(D$_s$)')\n",
    "plt.show()"
   ]
  },
  {
   "cell_type": "markdown",
   "metadata": {},
   "source": [
    "We need to fit a model to these data in order to accurately determine the activation energy of diffusion from the data. First, we carry out a linear regression of the $\\frac{1}{T}$ and $ln(D_s)$ values."
   ]
  },
  {
   "cell_type": "code",
   "execution_count": 19,
   "metadata": {},
   "outputs": [],
   "source": [
    "model_fit = linregress(1/temp, np.log(Ds_value))"
   ]
  },
  {
   "cell_type": "code",
   "execution_count": 20,
   "metadata": {},
   "outputs": [
    {
     "data": {
      "text/plain": [
       "LinregressResult(slope=-3672.1772231968876, intercept=-12.264432021017617, rvalue=-0.9939257384381933, pvalue=0.07020401419786494, stderr=406.60332864756805)"
      ]
     },
     "execution_count": 20,
     "metadata": {},
     "output_type": "execute_result"
    }
   ],
   "source": [
    "model_fit"
   ]
  },
  {
   "cell_type": "markdown",
   "metadata": {},
   "source": [
    "Using the same idea as above for adding a line of best fit to the $D_s$ against temperature graph, we can model the linear fit for the $\\frac{1}{T}$ against $ln(D_s)$ graph. The multiple values within the ```model_fit``` variable give us an idea of how good the model fit is. For example, A $R^2$ value of 0.994 is a relatively high value and suggests that the model fits the data well. However, this is a rather small data set so this could be improved with more data points.<br>\n",
    "\n",
    "We can now plot a line of best fit onto the graph, using the $y = mx + c$ relationship. The ```slope``` value can then be further utilised to work out the activation energy of diffusion. "
   ]
  },
  {
   "cell_type": "code",
   "execution_count": 21,
   "metadata": {},
   "outputs": [
    {
     "data": {
      "image/png": "[encoded data removed]",
      "text/plain": [
       "<Figure size 432x288 with 1 Axes>"
      ]
     },
     "metadata": {
      "needs_background": "light"
     },
     "output_type": "display_data"
    }
   ],
   "source": [
    "x_b = np.linspace(1/300, 1/400, 100)\n",
    "\n",
    "plt.plot(1/temp, np.log(Ds_value), 'o', label = 'Experimental data')\n",
    "plt.plot(x_b, model_fit.slope * x_b + model_fit.intercept, label = 'Fitted data')\n",
    "plt.xlabel('1/T (K$^{-1}$)')\n",
    "plt.ylabel('ln(D$_s$)')\n",
    "plt.legend()\n",
    "plt.show()"
   ]
  },
  {
   "cell_type": "markdown",
   "metadata": {},
   "source": [
    "The value we obtain for the ```slope``` is equal to $-\\frac{E_a}{R}$<br>\n",
    "\n",
    "$R$ is imported from ```scipy.constants``` and using the the ```slope``` value we can find the activation energy by multiplying by $-R$, the value obtained is converted from J/mol to kJ/mol by dividing by 1000."
   ]
  },
  {
   "cell_type": "code",
   "execution_count": 22,
   "metadata": {},
   "outputs": [],
   "source": [
    "from scipy.constants import R"
   ]
  },
  {
   "cell_type": "code",
   "execution_count": 23,
   "metadata": {},
   "outputs": [
    {
     "name": "stdout",
     "output_type": "stream",
     "text": [
      "30.532180248941565 kJ/mol\n"
     ]
    }
   ],
   "source": [
    "print(model_fit.slope * -1 * R / 1000, 'kJ/mol')"
   ]
  },
  {
   "cell_type": "markdown",
   "metadata": {},
   "source": [
    "In this section, we have found the value of the activation energy of diffusion of p-cresol to be 30.53 kJ/mol"
   ]
  }
 ],
 "metadata": {
  "kernelspec": {
   "display_name": "Python 3",
   "language": "python",
   "name": "python3"
  },
  "language_info": {
   "codemirror_mode": {
    "name": "ipython",
    "version": 3
   },
   "file_extension": ".py",
   "mimetype": "text/x-python",
   "name": "python",
   "nbconvert_exporter": "python",
   "pygments_lexer": "ipython3",
   "version": "3.8.3"
  }
 },
 "nbformat": 4,
 "nbformat_minor": 4
}
